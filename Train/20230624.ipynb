{
 "cells": [
  {
   "cell_type": "code",
   "execution_count": 1,
   "metadata": {},
   "outputs": [],
   "source": [
    "import pandas as pd\n",
    "import numpy as np\n",
    "import matplotlib.pyplot as plt\n",
    "import seaborn as sns\n",
    "\n",
    "train = pd.read_csv('train.csv')\n",
    "test = pd.read_csv('test.csv')\n",
    "sub = pd.read_csv('sample_submission.csv')"
   ]
  },
  {
   "cell_type": "code",
   "execution_count": 5,
   "metadata": {},
   "outputs": [
    {
     "data": {
      "text/html": [
       "<div>\n",
       "<style scoped>\n",
       "    .dataframe tbody tr th:only-of-type {\n",
       "        vertical-align: middle;\n",
       "    }\n",
       "\n",
       "    .dataframe tbody tr th {\n",
       "        vertical-align: top;\n",
       "    }\n",
       "\n",
       "    .dataframe thead th {\n",
       "        text-align: right;\n",
       "    }\n",
       "</style>\n",
       "<table border=\"1\" class=\"dataframe\">\n",
       "  <thead>\n",
       "    <tr style=\"text-align: right;\">\n",
       "      <th></th>\n",
       "      <th>id</th>\n",
       "      <th>path</th>\n",
       "    </tr>\n",
       "  </thead>\n",
       "  <tbody>\n",
       "    <tr>\n",
       "      <th>0</th>\n",
       "      <td>TEST_0000</td>\n",
       "      <td>./test/TEST_0000.wav</td>\n",
       "    </tr>\n",
       "    <tr>\n",
       "      <th>1</th>\n",
       "      <td>TEST_0001</td>\n",
       "      <td>./test/TEST_0001.wav</td>\n",
       "    </tr>\n",
       "    <tr>\n",
       "      <th>2</th>\n",
       "      <td>TEST_0002</td>\n",
       "      <td>./test/TEST_0002.wav</td>\n",
       "    </tr>\n",
       "    <tr>\n",
       "      <th>3</th>\n",
       "      <td>TEST_0003</td>\n",
       "      <td>./test/TEST_0003.wav</td>\n",
       "    </tr>\n",
       "    <tr>\n",
       "      <th>4</th>\n",
       "      <td>TEST_0004</td>\n",
       "      <td>./test/TEST_0004.wav</td>\n",
       "    </tr>\n",
       "    <tr>\n",
       "      <th>...</th>\n",
       "      <td>...</td>\n",
       "      <td>...</td>\n",
       "    </tr>\n",
       "    <tr>\n",
       "      <th>1876</th>\n",
       "      <td>TEST_1876</td>\n",
       "      <td>./test/TEST_1876.wav</td>\n",
       "    </tr>\n",
       "    <tr>\n",
       "      <th>1877</th>\n",
       "      <td>TEST_1877</td>\n",
       "      <td>./test/TEST_1877.wav</td>\n",
       "    </tr>\n",
       "    <tr>\n",
       "      <th>1878</th>\n",
       "      <td>TEST_1878</td>\n",
       "      <td>./test/TEST_1878.wav</td>\n",
       "    </tr>\n",
       "    <tr>\n",
       "      <th>1879</th>\n",
       "      <td>TEST_1879</td>\n",
       "      <td>./test/TEST_1879.wav</td>\n",
       "    </tr>\n",
       "    <tr>\n",
       "      <th>1880</th>\n",
       "      <td>TEST_1880</td>\n",
       "      <td>./test/TEST_1880.wav</td>\n",
       "    </tr>\n",
       "  </tbody>\n",
       "</table>\n",
       "<p>1881 rows × 2 columns</p>\n",
       "</div>"
      ],
      "text/plain": [
       "             id                  path\n",
       "0     TEST_0000  ./test/TEST_0000.wav\n",
       "1     TEST_0001  ./test/TEST_0001.wav\n",
       "2     TEST_0002  ./test/TEST_0002.wav\n",
       "3     TEST_0003  ./test/TEST_0003.wav\n",
       "4     TEST_0004  ./test/TEST_0004.wav\n",
       "...         ...                   ...\n",
       "1876  TEST_1876  ./test/TEST_1876.wav\n",
       "1877  TEST_1877  ./test/TEST_1877.wav\n",
       "1878  TEST_1878  ./test/TEST_1878.wav\n",
       "1879  TEST_1879  ./test/TEST_1879.wav\n",
       "1880  TEST_1880  ./test/TEST_1880.wav\n",
       "\n",
       "[1881 rows x 2 columns]"
      ]
     },
     "execution_count": 5,
     "metadata": {},
     "output_type": "execute_result"
    }
   ],
   "source": [
    "test"
   ]
  },
  {
   "cell_type": "code",
   "execution_count": 6,
   "metadata": {},
   "outputs": [],
   "source": [
    "from glob import glob\n",
    "import numpy as np\n",
    "import librosa\n",
    "import gc\n",
    "\n",
    "# MFCC 파라미터\n",
    "n_mfcc = 13\n",
    "\n",
    "for i, file_path in enumerate(test['path']):\n",
    "    audio, sr = librosa.load(file_path)\n",
    "\n",
    "    # MFCC 추출\n",
    "    mfcc = librosa.feature.mfcc(y = audio, sr=sr, n_mfcc=13)\n",
    "\n",
    "    plt.figure(dpi=600)\n",
    "    plt.imshow(mfcc)\n",
    "    plt.axis('off')\n",
    "    plt.savefig('C:/workplace/dacon/voice/test_image/' + file_path.split('/')[-1].replace('.wav', '.png'), bbox_inches = 'tight', pad_inches=0)\n",
    "    plt.close()\n",
    "    if i == 500:\n",
    "        gc.collect()\n",
    "\n",
    "\n"
   ]
  },
  {
   "cell_type": "code",
   "execution_count": 17,
   "metadata": {},
   "outputs": [
    {
     "name": "stderr",
     "output_type": "stream",
     "text": [
      "Traceback (most recent call last):\n",
      "  File \"_pydevd_bundle/pydevd_cython.pyx\", line 1078, in _pydevd_bundle.pydevd_cython.PyDBFrame.trace_dispatch\n",
      "  File \"_pydevd_bundle/pydevd_cython.pyx\", line 297, in _pydevd_bundle.pydevd_cython.PyDBFrame.do_wait_suspend\n",
      "  File \"c:\\Users\\kweon\\anaconda3\\envs\\gibo\\lib\\site-packages\\debugpy\\_vendored\\pydevd\\pydevd.py\", line 1976, in do_wait_suspend\n",
      "    keep_suspended = self._do_wait_suspend(thread, frame, event, arg, suspend_type, from_this_thread, frames_tracker)\n",
      "  File \"c:\\Users\\kweon\\anaconda3\\envs\\gibo\\lib\\site-packages\\debugpy\\_vendored\\pydevd\\pydevd.py\", line 2011, in _do_wait_suspend\n",
      "    time.sleep(0.01)\n",
      "KeyboardInterrupt\n"
     ]
    },
    {
     "ename": "KeyboardInterrupt",
     "evalue": "",
     "output_type": "error",
     "traceback": [
      "\u001b[1;31m---------------------------------------------------------------------------\u001b[0m",
      "\u001b[1;31mKeyboardInterrupt\u001b[0m                         Traceback (most recent call last)",
      "Cell \u001b[1;32mIn[17], line 1\u001b[0m\n\u001b[1;32m----> 1\u001b[0m mfcc \u001b[39m=\u001b[39m librosa\u001b[39m.\u001b[39mfeature\u001b[39m.\u001b[39mmfcc(y \u001b[39m=\u001b[39m audio, sr\u001b[39m=\u001b[39msr, n_mfcc\u001b[39m=\u001b[39m\u001b[39m13\u001b[39m)\n\u001b[0;32m      2\u001b[0m plt\u001b[39m.\u001b[39mimshow(mfcc)\n",
      "Cell \u001b[1;32mIn[17], line 1\u001b[0m\n\u001b[1;32m----> 1\u001b[0m mfcc \u001b[39m=\u001b[39m librosa\u001b[39m.\u001b[39mfeature\u001b[39m.\u001b[39mmfcc(y \u001b[39m=\u001b[39m audio, sr\u001b[39m=\u001b[39msr, n_mfcc\u001b[39m=\u001b[39m\u001b[39m13\u001b[39m)\n\u001b[0;32m      2\u001b[0m plt\u001b[39m.\u001b[39mimshow(mfcc)\n",
      "File \u001b[1;32m_pydevd_bundle/pydevd_cython.pyx:1363\u001b[0m, in \u001b[0;36m_pydevd_bundle.pydevd_cython.SafeCallWrapper.__call__\u001b[1;34m()\u001b[0m\n",
      "File \u001b[1;32m_pydevd_bundle/pydevd_cython.pyx:662\u001b[0m, in \u001b[0;36m_pydevd_bundle.pydevd_cython.PyDBFrame.trace_dispatch\u001b[1;34m()\u001b[0m\n",
      "File \u001b[1;32m_pydevd_bundle/pydevd_cython.pyx:1087\u001b[0m, in \u001b[0;36m_pydevd_bundle.pydevd_cython.PyDBFrame.trace_dispatch\u001b[1;34m()\u001b[0m\n",
      "File \u001b[1;32m_pydevd_bundle/pydevd_cython.pyx:1078\u001b[0m, in \u001b[0;36m_pydevd_bundle.pydevd_cython.PyDBFrame.trace_dispatch\u001b[1;34m()\u001b[0m\n",
      "File \u001b[1;32m_pydevd_bundle/pydevd_cython.pyx:297\u001b[0m, in \u001b[0;36m_pydevd_bundle.pydevd_cython.PyDBFrame.do_wait_suspend\u001b[1;34m()\u001b[0m\n",
      "File \u001b[1;32mc:\\Users\\kweon\\anaconda3\\envs\\gibo\\lib\\site-packages\\debugpy\\_vendored\\pydevd\\pydevd.py:1976\u001b[0m, in \u001b[0;36mPyDB.do_wait_suspend\u001b[1;34m(self, thread, frame, event, arg, exception_type)\u001b[0m\n\u001b[0;32m   1973\u001b[0m             from_this_thread\u001b[39m.\u001b[39mappend(frame_custom_thread_id)\n\u001b[0;32m   1975\u001b[0m     \u001b[39mwith\u001b[39;00m \u001b[39mself\u001b[39m\u001b[39m.\u001b[39m_threads_suspended_single_notification\u001b[39m.\u001b[39mnotify_thread_suspended(thread_id, stop_reason):\n\u001b[1;32m-> 1976\u001b[0m         keep_suspended \u001b[39m=\u001b[39m \u001b[39mself\u001b[39;49m\u001b[39m.\u001b[39;49m_do_wait_suspend(thread, frame, event, arg, suspend_type, from_this_thread, frames_tracker)\n\u001b[0;32m   1978\u001b[0m frames_list \u001b[39m=\u001b[39m \u001b[39mNone\u001b[39;00m\n\u001b[0;32m   1980\u001b[0m \u001b[39mif\u001b[39;00m keep_suspended:\n\u001b[0;32m   1981\u001b[0m     \u001b[39m# This means that we should pause again after a set next statement.\u001b[39;00m\n",
      "File \u001b[1;32mc:\\Users\\kweon\\anaconda3\\envs\\gibo\\lib\\site-packages\\debugpy\\_vendored\\pydevd\\pydevd.py:2011\u001b[0m, in \u001b[0;36mPyDB._do_wait_suspend\u001b[1;34m(self, thread, frame, event, arg, suspend_type, from_this_thread, frames_tracker)\u001b[0m\n\u001b[0;32m   2008\u001b[0m         \u001b[39mself\u001b[39m\u001b[39m.\u001b[39m_call_mpl_hook()\n\u001b[0;32m   2010\u001b[0m     \u001b[39mself\u001b[39m\u001b[39m.\u001b[39mprocess_internal_commands()\n\u001b[1;32m-> 2011\u001b[0m     time\u001b[39m.\u001b[39;49msleep(\u001b[39m0.01\u001b[39;49m)\n\u001b[0;32m   2013\u001b[0m \u001b[39mself\u001b[39m\u001b[39m.\u001b[39mcancel_async_evaluation(get_current_thread_id(thread), \u001b[39mstr\u001b[39m(\u001b[39mid\u001b[39m(frame)))\n\u001b[0;32m   2015\u001b[0m \u001b[39m# process any stepping instructions\u001b[39;00m\n",
      "\u001b[1;31mKeyboardInterrupt\u001b[0m: "
     ]
    }
   ],
   "source": [
    "mfcc = librosa.feature.mfcc(y = audio, sr=sr, n_mfcc=13)\n",
    "plt.imshow(mfcc)"
   ]
  },
  {
   "cell_type": "code",
   "execution_count": 14,
   "metadata": {},
   "outputs": [
    {
     "data": {
      "text/plain": [
       "<matplotlib.image.AxesImage at 0x28152c50bb0>"
      ]
     },
     "execution_count": 14,
     "metadata": {},
     "output_type": "execute_result"
    },
    {
     "data": {
      "image/png": "[encoded data removed]",
      "text/plain": [
       "<Figure size 640x480 with 1 Axes>"
      ]
     },
     "metadata": {},
     "output_type": "display_data"
    }
   ],
   "source": [
    "from skimage.transform import resize\n",
    "\n",
    "resized_image = resize(mfcc_image, (224, 224))\n",
    "plt.imshow(resized_image)"
   ]
  },
  {
   "cell_type": "code",
   "execution_count": 6,
   "metadata": {},
   "outputs": [],
   "source": [
    "import cv2\n",
    "import numpy as np\n",
    "\n",
    "# 이미지 파일 경로\n",
    "image_path = \"C:/workplace/dacon/voice/train_image/TRAIN_1860.png\"\n",
    "\n",
    "# 이미지를 NumPy 배열로 불러오기\n",
    "image_cv = cv2.imread(image_path)\n",
    "image_np = np.array(image_cv)\n"
   ]
  },
  {
   "cell_type": "code",
   "execution_count": 9,
   "metadata": {},
   "outputs": [
    {
     "data": {
      "text/plain": [
       "array([[[102,  20,  71],\n",
       "        [102,  20,  71],\n",
       "        [102,  20,  71],\n",
       "        ...,\n",
       "        [ 84,   1,  68],\n",
       "        [ 84,   1,  68],\n",
       "        [ 84,   1,  68]],\n",
       "\n",
       "       [[102,  20,  71],\n",
       "        [102,  20,  71],\n",
       "        [102,  20,  71],\n",
       "        ...,\n",
       "        [ 84,   1,  68],\n",
       "        [ 84,   1,  68],\n",
       "        [ 84,   1,  68]],\n",
       "\n",
       "       [[102,  20,  71],\n",
       "        [102,  20,  71],\n",
       "        [102,  20,  71],\n",
       "        ...,\n",
       "        [ 84,   1,  68],\n",
       "        [ 84,   1,  68],\n",
       "        [ 84,   1,  68]],\n",
       "\n",
       "       ...,\n",
       "\n",
       "       [[101, 198,  87],\n",
       "        [101, 198,  87],\n",
       "        [101, 198,  87],\n",
       "        ...,\n",
       "        [ 98, 200,  91],\n",
       "        [ 98, 200,  91],\n",
       "        [ 98, 200,  91]],\n",
       "\n",
       "       [[101, 198,  87],\n",
       "        [101, 198,  87],\n",
       "        [101, 198,  87],\n",
       "        ...,\n",
       "        [ 98, 200,  91],\n",
       "        [ 98, 200,  91],\n",
       "        [ 98, 200,  91]],\n",
       "\n",
       "       [[101, 198,  87],\n",
       "        [101, 198,  87],\n",
       "        [101, 198,  87],\n",
       "        ...,\n",
       "        [ 98, 200,  91],\n",
       "        [ 98, 200,  91],\n",
       "        [ 98, 200,  91]]], dtype=uint8)"
      ]
     },
     "execution_count": 9,
     "metadata": {},
     "output_type": "execute_result"
    }
   ],
   "source": [
    "image_cv"
   ]
  },
  {
   "cell_type": "code",
   "execution_count": 3,
   "metadata": {},
   "outputs": [],
   "source": [
    "from tqdm import tqdm\n",
    "import librosa\n",
    "def FE(path, type=0):\n",
    "    lst = []\n",
    "    \n",
    "    def fe(x, name, type=0):\n",
    "        mean = np.mean(x, axis=1)\n",
    "        max = np.max(x, axis=1)\n",
    "        min = np.min(x, axis=1)\n",
    "        median = np.median(x, axis=1)\n",
    "        std = np.std(x, axis=1)\n",
    "        df = pd.DataFrame()\n",
    "        \n",
    "        if type == 0:\n",
    "            df[f'{name}_mean'] = [mean[0]]\n",
    "            df[f'{name}_max'] =[max[0]]\n",
    "            df[f'{name}_min'] = [min[0]]\n",
    "            df[f'{name}_median'] = [median[0]]\n",
    "            df[f'{name}_std'] = [std[0]]\n",
    " \n",
    "            \n",
    "        elif type == 1:\n",
    "            for i in range(mean.shape[0]):\n",
    "                df[f'{name}_mean_{i}'] = [mean[i]]\n",
    "                \n",
    "            for i in range(max.shape[0]):\n",
    "                df[f'{name}_max_{i}'] = [max[i]]\n",
    "                \n",
    "            for i in range(min.shape[0]):\n",
    "                df[f'{name}_min_{i}'] = [min[i]]\n",
    "                \n",
    "            for i in range(median.shape[0]):\n",
    "                df[f'{name}_median_{i}'] = [median[i]]\n",
    "                \n",
    "            for i in range(std.shape[0]):\n",
    "                df[f'{name}_std_{i}'] = [std[i]]\n",
    "                \n",
    "        return df\n",
    "    \n",
    "    for file in tqdm(range(len(path))):\n",
    "        audio, sr = librosa.load(path.iloc[file]['path'])\n",
    "        \n",
    "        # MFCC 계산\n",
    "        mfccs = librosa.feature.mfcc(y=audio, sr=sr, n_mfcc=13)\n",
    "        # Zero Crossing Rate (ZCR) 계산\n",
    "        zcr = librosa.feature.zero_crossing_rate(y=audio)\n",
    "\n",
    "        # Spectral Centroid 계산\n",
    "        centroid = librosa.feature.spectral_centroid(y=audio, sr=sr)\n",
    "\n",
    "        # Spectral Roll-off 계산\n",
    "        rolloff = librosa.feature.spectral_rolloff(y=audio, sr=sr)\n",
    "\n",
    "        # Spectral Contrast 계산\n",
    "        contrast = librosa.feature.spectral_contrast(y=audio, sr=sr)\n",
    "\n",
    "        spectral_bw = librosa.feature.spectral_bandwidth(y=audio, sr=sr)\n",
    "\n",
    "        db = librosa.power_to_db(mfccs)\n",
    "\n",
    "        rms = librosa.feature.rms(y=audio)\n",
    "\n",
    "        chroma = librosa.feature.chroma_stft(y=audio, sr=sr)\n",
    "        \n",
    "        mfcc_diff = np.diff(mfccs, axis=1)\n",
    "        \n",
    "        db_diff = np.diff(db, axis=1)\n",
    "        # df = pd.concat(\n",
    "        #     [\n",
    "        #     fe(mfccs, 'mfccs', type=1), fe(zcr, 'zcr'), fe(centroid, 'centroid'), fe(rolloff, 'rolloff'), fe(contrast, 'contrast'),\n",
    "        #     fe(spectral_bw, 'spectral_bw'), fe(db, 'db', type=1), fe(rms, 'rms'), fe(chroma, 'chroma'), fe(mfcc_diff, 'mfcc_diff', type=1),\n",
    "        #     fe(db_diff, 'db_diff', type=1)\n",
    "        #     ], \n",
    "        #     axis=1)\n",
    "        \n",
    "        df = pd.concat(\n",
    "            [\n",
    "            fe(zcr, 'zcr'), fe(centroid, 'centroid'), fe(rolloff, 'rolloff'), fe(contrast, 'contrast'),\n",
    "            fe(spectral_bw, 'spectral_bw'), fe(rms, 'rms'), fe(chroma, 'chroma'), fe(mfcc_diff, 'mfcc_diff', type=1),\n",
    "            fe(db_diff, 'db_diff', type=1)\n",
    "            ], \n",
    "            axis=1)\n",
    "        if type == 0:\n",
    "            df['label'] = path.iloc[file]['label']\n",
    "        elif type == 1:\n",
    "            pass\n",
    "        \n",
    "        lst.append(df)\n",
    "        \n",
    "    df = pd.concat(lst)\n",
    "    \n",
    "    return df\n",
    "    \n",
    "        \n",
    "        "
   ]
  },
  {
   "cell_type": "code",
   "execution_count": 4,
   "metadata": {},
   "outputs": [
    {
     "name": "stderr",
     "output_type": "stream",
     "text": [
      "100%|██████████| 5001/5001 [04:46<00:00, 17.47it/s]\n"
     ]
    }
   ],
   "source": [
    "from glob import glob\n",
    "import warnings\n",
    "warnings.filterwarnings(action='ignore')\n",
    "\n",
    "path = glob('C:/workplace/dacon/voice/train/*')\n",
    "train_df = FE(path=train)\n",
    "train_df =train_df.reset_index()\n",
    "train_df = train_df.drop('index', axis=1)"
   ]
  },
  {
   "cell_type": "code",
   "execution_count": 5,
   "metadata": {},
   "outputs": [
    {
     "name": "stderr",
     "output_type": "stream",
     "text": [
      "100%|██████████| 1881/1881 [01:43<00:00, 18.23it/s]\n"
     ]
    }
   ],
   "source": [
    "path = glob('C:/workplace/dacon/voice/test/*')\n",
    "test_df = FE(path=test, type=1)"
   ]
  },
  {
   "cell_type": "code",
   "execution_count": 43,
   "metadata": {},
   "outputs": [
    {
     "data": {
      "text/html": [
       "<div>\n",
       "<style scoped>\n",
       "    .dataframe tbody tr th:only-of-type {\n",
       "        vertical-align: middle;\n",
       "    }\n",
       "\n",
       "    .dataframe tbody tr th {\n",
       "        vertical-align: top;\n",
       "    }\n",
       "\n",
       "    .dataframe thead th {\n",
       "        text-align: right;\n",
       "    }\n",
       "</style>\n",
       "<table border=\"1\" class=\"dataframe\">\n",
       "  <thead>\n",
       "    <tr style=\"text-align: right;\">\n",
       "      <th></th>\n",
       "      <th>zcr_mean</th>\n",
       "      <th>zcr_max</th>\n",
       "      <th>zcr_min</th>\n",
       "      <th>zcr_median</th>\n",
       "      <th>zcr_std</th>\n",
       "      <th>centroid_mean</th>\n",
       "      <th>centroid_max</th>\n",
       "      <th>centroid_min</th>\n",
       "      <th>centroid_median</th>\n",
       "      <th>centroid_std</th>\n",
       "      <th>rolloff_mean</th>\n",
       "      <th>rolloff_max</th>\n",
       "      <th>rolloff_min</th>\n",
       "      <th>rolloff_median</th>\n",
       "      <th>rolloff_std</th>\n",
       "    </tr>\n",
       "  </thead>\n",
       "  <tbody>\n",
       "    <tr>\n",
       "      <th>0</th>\n",
       "      <td>0.042319</td>\n",
       "      <td>0.146973</td>\n",
       "      <td>0.012207</td>\n",
       "      <td>0.038574</td>\n",
       "      <td>0.020448</td>\n",
       "      <td>1197.977146</td>\n",
       "      <td>3457.166703</td>\n",
       "      <td>950.841205</td>\n",
       "      <td>1117.714756</td>\n",
       "      <td>376.521613</td>\n",
       "      <td>2717.469328</td>\n",
       "      <td>6955.224609</td>\n",
       "      <td>1658.056641</td>\n",
       "      <td>2637.817383</td>\n",
       "      <td>903.997902</td>\n",
       "    </tr>\n",
       "    <tr>\n",
       "      <th>1</th>\n",
       "      <td>0.104138</td>\n",
       "      <td>0.471680</td>\n",
       "      <td>0.017578</td>\n",
       "      <td>0.041504</td>\n",
       "      <td>0.118437</td>\n",
       "      <td>1818.842763</td>\n",
       "      <td>4670.907431</td>\n",
       "      <td>895.587946</td>\n",
       "      <td>1193.008985</td>\n",
       "      <td>1162.076253</td>\n",
       "      <td>3912.754511</td>\n",
       "      <td>7084.423828</td>\n",
       "      <td>1431.958008</td>\n",
       "      <td>3090.014648</td>\n",
       "      <td>1832.468569</td>\n",
       "    </tr>\n",
       "    <tr>\n",
       "      <th>2</th>\n",
       "      <td>0.097335</td>\n",
       "      <td>0.478027</td>\n",
       "      <td>0.018555</td>\n",
       "      <td>0.048584</td>\n",
       "      <td>0.117857</td>\n",
       "      <td>1645.628696</td>\n",
       "      <td>4704.121683</td>\n",
       "      <td>822.327314</td>\n",
       "      <td>1249.574805</td>\n",
       "      <td>1068.900233</td>\n",
       "      <td>3387.207031</td>\n",
       "      <td>7073.657227</td>\n",
       "      <td>947.460938</td>\n",
       "      <td>3100.781250</td>\n",
       "      <td>1663.566772</td>\n",
       "    </tr>\n",
       "    <tr>\n",
       "      <th>3</th>\n",
       "      <td>0.043188</td>\n",
       "      <td>0.132812</td>\n",
       "      <td>0.011230</td>\n",
       "      <td>0.038574</td>\n",
       "      <td>0.025720</td>\n",
       "      <td>1079.355424</td>\n",
       "      <td>3278.691721</td>\n",
       "      <td>664.576431</td>\n",
       "      <td>968.570220</td>\n",
       "      <td>393.334608</td>\n",
       "      <td>2007.648193</td>\n",
       "      <td>5953.930664</td>\n",
       "      <td>710.595703</td>\n",
       "      <td>1771.105957</td>\n",
       "      <td>1057.628272</td>\n",
       "    </tr>\n",
       "    <tr>\n",
       "      <th>4</th>\n",
       "      <td>0.045609</td>\n",
       "      <td>0.100586</td>\n",
       "      <td>0.015625</td>\n",
       "      <td>0.040039</td>\n",
       "      <td>0.016616</td>\n",
       "      <td>1161.830708</td>\n",
       "      <td>2808.836596</td>\n",
       "      <td>667.735366</td>\n",
       "      <td>1144.440991</td>\n",
       "      <td>354.348579</td>\n",
       "      <td>2601.264106</td>\n",
       "      <td>5534.033203</td>\n",
       "      <td>667.529297</td>\n",
       "      <td>2723.950195</td>\n",
       "      <td>1039.827334</td>\n",
       "    </tr>\n",
       "    <tr>\n",
       "      <th>...</th>\n",
       "      <td>...</td>\n",
       "      <td>...</td>\n",
       "      <td>...</td>\n",
       "      <td>...</td>\n",
       "      <td>...</td>\n",
       "      <td>...</td>\n",
       "      <td>...</td>\n",
       "      <td>...</td>\n",
       "      <td>...</td>\n",
       "      <td>...</td>\n",
       "      <td>...</td>\n",
       "      <td>...</td>\n",
       "      <td>...</td>\n",
       "      <td>...</td>\n",
       "      <td>...</td>\n",
       "    </tr>\n",
       "    <tr>\n",
       "      <th>4996</th>\n",
       "      <td>0.042933</td>\n",
       "      <td>0.300293</td>\n",
       "      <td>0.011719</td>\n",
       "      <td>0.032715</td>\n",
       "      <td>0.042482</td>\n",
       "      <td>1188.427507</td>\n",
       "      <td>4409.259637</td>\n",
       "      <td>645.276036</td>\n",
       "      <td>980.836456</td>\n",
       "      <td>631.639792</td>\n",
       "      <td>2437.716154</td>\n",
       "      <td>6707.592773</td>\n",
       "      <td>602.929688</td>\n",
       "      <td>1916.455078</td>\n",
       "      <td>1572.780898</td>\n",
       "    </tr>\n",
       "    <tr>\n",
       "      <th>4997</th>\n",
       "      <td>0.082426</td>\n",
       "      <td>0.192871</td>\n",
       "      <td>0.025879</td>\n",
       "      <td>0.086182</td>\n",
       "      <td>0.043804</td>\n",
       "      <td>1667.145975</td>\n",
       "      <td>2966.227499</td>\n",
       "      <td>926.897648</td>\n",
       "      <td>1594.524207</td>\n",
       "      <td>536.066875</td>\n",
       "      <td>3515.980558</td>\n",
       "      <td>6180.029297</td>\n",
       "      <td>1798.022461</td>\n",
       "      <td>3364.562988</td>\n",
       "      <td>1016.365868</td>\n",
       "    </tr>\n",
       "    <tr>\n",
       "      <th>4998</th>\n",
       "      <td>0.067737</td>\n",
       "      <td>0.378418</td>\n",
       "      <td>0.018555</td>\n",
       "      <td>0.035156</td>\n",
       "      <td>0.084794</td>\n",
       "      <td>1393.322561</td>\n",
       "      <td>4410.895528</td>\n",
       "      <td>739.578119</td>\n",
       "      <td>1060.892648</td>\n",
       "      <td>910.998709</td>\n",
       "      <td>2777.896536</td>\n",
       "      <td>6869.091797</td>\n",
       "      <td>947.460938</td>\n",
       "      <td>2411.718750</td>\n",
       "      <td>1563.190415</td>\n",
       "    </tr>\n",
       "    <tr>\n",
       "      <th>4999</th>\n",
       "      <td>0.048504</td>\n",
       "      <td>0.197754</td>\n",
       "      <td>0.013672</td>\n",
       "      <td>0.041016</td>\n",
       "      <td>0.027635</td>\n",
       "      <td>1292.574560</td>\n",
       "      <td>3522.066489</td>\n",
       "      <td>894.083120</td>\n",
       "      <td>1215.117434</td>\n",
       "      <td>379.075419</td>\n",
       "      <td>3120.821275</td>\n",
       "      <td>6578.393555</td>\n",
       "      <td>1044.360352</td>\n",
       "      <td>3197.680664</td>\n",
       "      <td>1048.805055</td>\n",
       "    </tr>\n",
       "    <tr>\n",
       "      <th>5000</th>\n",
       "      <td>0.099103</td>\n",
       "      <td>0.512695</td>\n",
       "      <td>0.021484</td>\n",
       "      <td>0.048828</td>\n",
       "      <td>0.108986</td>\n",
       "      <td>1728.385254</td>\n",
       "      <td>5070.607726</td>\n",
       "      <td>752.662885</td>\n",
       "      <td>1266.729138</td>\n",
       "      <td>1022.939172</td>\n",
       "      <td>3300.755041</td>\n",
       "      <td>7224.389648</td>\n",
       "      <td>775.195312</td>\n",
       "      <td>2718.566895</td>\n",
       "      <td>1636.790931</td>\n",
       "    </tr>\n",
       "  </tbody>\n",
       "</table>\n",
       "<p>5001 rows × 15 columns</p>\n",
       "</div>"
      ],
      "text/plain": [
       "      zcr_mean   zcr_max   zcr_min  zcr_median   zcr_std  centroid_mean  \\\n",
       "0     0.042319  0.146973  0.012207    0.038574  0.020448    1197.977146   \n",
       "1     0.104138  0.471680  0.017578    0.041504  0.118437    1818.842763   \n",
       "2     0.097335  0.478027  0.018555    0.048584  0.117857    1645.628696   \n",
       "3     0.043188  0.132812  0.011230    0.038574  0.025720    1079.355424   \n",
       "4     0.045609  0.100586  0.015625    0.040039  0.016616    1161.830708   \n",
       "...        ...       ...       ...         ...       ...            ...   \n",
       "4996  0.042933  0.300293  0.011719    0.032715  0.042482    1188.427507   \n",
       "4997  0.082426  0.192871  0.025879    0.086182  0.043804    1667.145975   \n",
       "4998  0.067737  0.378418  0.018555    0.035156  0.084794    1393.322561   \n",
       "4999  0.048504  0.197754  0.013672    0.041016  0.027635    1292.574560   \n",
       "5000  0.099103  0.512695  0.021484    0.048828  0.108986    1728.385254   \n",
       "\n",
       "      centroid_max  centroid_min  centroid_median  centroid_std  rolloff_mean  \\\n",
       "0      3457.166703    950.841205      1117.714756    376.521613   2717.469328   \n",
       "1      4670.907431    895.587946      1193.008985   1162.076253   3912.754511   \n",
       "2      4704.121683    822.327314      1249.574805   1068.900233   3387.207031   \n",
       "3      3278.691721    664.576431       968.570220    393.334608   2007.648193   \n",
       "4      2808.836596    667.735366      1144.440991    354.348579   2601.264106   \n",
       "...            ...           ...              ...           ...           ...   \n",
       "4996   4409.259637    645.276036       980.836456    631.639792   2437.716154   \n",
       "4997   2966.227499    926.897648      1594.524207    536.066875   3515.980558   \n",
       "4998   4410.895528    739.578119      1060.892648    910.998709   2777.896536   \n",
       "4999   3522.066489    894.083120      1215.117434    379.075419   3120.821275   \n",
       "5000   5070.607726    752.662885      1266.729138   1022.939172   3300.755041   \n",
       "\n",
       "      rolloff_max  rolloff_min  rolloff_median  rolloff_std  \n",
       "0     6955.224609  1658.056641     2637.817383   903.997902  \n",
       "1     7084.423828  1431.958008     3090.014648  1832.468569  \n",
       "2     7073.657227   947.460938     3100.781250  1663.566772  \n",
       "3     5953.930664   710.595703     1771.105957  1057.628272  \n",
       "4     5534.033203   667.529297     2723.950195  1039.827334  \n",
       "...           ...          ...             ...          ...  \n",
       "4996  6707.592773   602.929688     1916.455078  1572.780898  \n",
       "4997  6180.029297  1798.022461     3364.562988  1016.365868  \n",
       "4998  6869.091797   947.460938     2411.718750  1563.190415  \n",
       "4999  6578.393555  1044.360352     3197.680664  1048.805055  \n",
       "5000  7224.389648   775.195312     2718.566895  1636.790931  \n",
       "\n",
       "[5001 rows x 15 columns]"
      ]
     },
     "execution_count": 43,
     "metadata": {},
     "output_type": "execute_result"
    }
   ],
   "source": [
    "train_df.iloc[:, 65:80]"
   ]
  },
  {
   "cell_type": "code",
   "execution_count": 6,
   "metadata": {},
   "outputs": [],
   "source": [
    "from sklearn.model_selection import train_test_split\n",
    "\n",
    "X_train, X_valid, y_train, y_valid = train_test_split(train_df.drop('label', axis=1), train_df['label'], \n",
    "                                                      train_size=0.8, shuffle=True, stratify=train_df['label'], random_state=23)"
   ]
  },
  {
   "cell_type": "code",
   "execution_count": 7,
   "metadata": {},
   "outputs": [
    {
     "name": "stdout",
     "output_type": "stream",
     "text": [
      "Learning rate set to 0.044222\n",
      "0:\tlearn: 1.7581709\ttest: 1.7631557\tbest: 1.7631557 (0)\ttotal: 8.01ms\tremaining: 1m 20s\n",
      "1000:\tlearn: 0.3701903\ttest: 1.2532333\tbest: 1.2529459 (995)\ttotal: 7.39s\tremaining: 1m 6s\n",
      "2000:\tlearn: 0.1511926\ttest: 1.2742388\tbest: 1.2529459 (995)\ttotal: 14.7s\tremaining: 58.6s\n",
      "3000:\tlearn: 0.0757568\ttest: 1.3078560\tbest: 1.2529459 (995)\ttotal: 21.9s\tremaining: 51.2s\n"
     ]
    },
    {
     "ename": "KeyboardInterrupt",
     "evalue": "",
     "output_type": "error",
     "traceback": [
      "\u001b[1;31m---------------------------------------------------------------------------\u001b[0m",
      "\u001b[1;31mKeyboardInterrupt\u001b[0m                         Traceback (most recent call last)",
      "Cell \u001b[1;32mIn[7], line 18\u001b[0m\n\u001b[0;32m     15\u001b[0m train_pool \u001b[39m=\u001b[39m Pool(X_train, y_train)\n\u001b[0;32m     16\u001b[0m valid_pool \u001b[39m=\u001b[39m Pool(X_valid, y_valid)\n\u001b[1;32m---> 18\u001b[0m fit_model \u001b[39m=\u001b[39m model\u001b[39m.\u001b[39;49mfit(train_pool, \n\u001b[0;32m     19\u001b[0m                           eval_set\u001b[39m=\u001b[39;49mvalid_pool,\n\u001b[0;32m     20\u001b[0m                           use_best_model\u001b[39m=\u001b[39;49m\u001b[39mTrue\u001b[39;49;00m\n\u001b[0;32m     21\u001b[0m                           )\n",
      "File \u001b[1;32m~\\AppData\\Roaming\\Python\\Python38\\site-packages\\catboost\\core.py:5128\u001b[0m, in \u001b[0;36mCatBoostClassifier.fit\u001b[1;34m(self, X, y, cat_features, text_features, embedding_features, sample_weight, baseline, use_best_model, eval_set, verbose, logging_level, plot, plot_file, column_description, verbose_eval, metric_period, silent, early_stopping_rounds, save_snapshot, snapshot_file, snapshot_interval, init_model, callbacks, log_cout, log_cerr)\u001b[0m\n\u001b[0;32m   5125\u001b[0m \u001b[39mif\u001b[39;00m \u001b[39m'\u001b[39m\u001b[39mloss_function\u001b[39m\u001b[39m'\u001b[39m \u001b[39min\u001b[39;00m params:\n\u001b[0;32m   5126\u001b[0m     CatBoostClassifier\u001b[39m.\u001b[39m_check_is_compatible_loss(params[\u001b[39m'\u001b[39m\u001b[39mloss_function\u001b[39m\u001b[39m'\u001b[39m])\n\u001b[1;32m-> 5128\u001b[0m \u001b[39mself\u001b[39;49m\u001b[39m.\u001b[39;49m_fit(X, y, cat_features, text_features, embedding_features, \u001b[39mNone\u001b[39;49;00m, sample_weight, \u001b[39mNone\u001b[39;49;00m, \u001b[39mNone\u001b[39;49;00m, \u001b[39mNone\u001b[39;49;00m, \u001b[39mNone\u001b[39;49;00m, baseline, use_best_model,\n\u001b[0;32m   5129\u001b[0m           eval_set, verbose, logging_level, plot, plot_file, column_description, verbose_eval, metric_period,\n\u001b[0;32m   5130\u001b[0m           silent, early_stopping_rounds, save_snapshot, snapshot_file, snapshot_interval, init_model, callbacks, log_cout, log_cerr)\n\u001b[0;32m   5131\u001b[0m \u001b[39mreturn\u001b[39;00m \u001b[39mself\u001b[39m\n",
      "File \u001b[1;32m~\\AppData\\Roaming\\Python\\Python38\\site-packages\\catboost\\core.py:2355\u001b[0m, in \u001b[0;36mCatBoost._fit\u001b[1;34m(self, X, y, cat_features, text_features, embedding_features, pairs, sample_weight, group_id, group_weight, subgroup_id, pairs_weight, baseline, use_best_model, eval_set, verbose, logging_level, plot, plot_file, column_description, verbose_eval, metric_period, silent, early_stopping_rounds, save_snapshot, snapshot_file, snapshot_interval, init_model, callbacks, log_cout, log_cerr)\u001b[0m\n\u001b[0;32m   2351\u001b[0m allow_clear_pool \u001b[39m=\u001b[39m train_params[\u001b[39m\"\u001b[39m\u001b[39mallow_clear_pool\u001b[39m\u001b[39m\"\u001b[39m]\n\u001b[0;32m   2353\u001b[0m \u001b[39mwith\u001b[39;00m log_fixup(log_cout, log_cerr), \\\n\u001b[0;32m   2354\u001b[0m     plot_wrapper(plot, plot_file, \u001b[39m'\u001b[39m\u001b[39mTraining plots\u001b[39m\u001b[39m'\u001b[39m, [_get_train_dir(\u001b[39mself\u001b[39m\u001b[39m.\u001b[39mget_params())]):\n\u001b[1;32m-> 2355\u001b[0m     \u001b[39mself\u001b[39;49m\u001b[39m.\u001b[39;49m_train(\n\u001b[0;32m   2356\u001b[0m         train_pool,\n\u001b[0;32m   2357\u001b[0m         train_params[\u001b[39m\"\u001b[39;49m\u001b[39meval_sets\u001b[39;49m\u001b[39m\"\u001b[39;49m],\n\u001b[0;32m   2358\u001b[0m         params,\n\u001b[0;32m   2359\u001b[0m         allow_clear_pool,\n\u001b[0;32m   2360\u001b[0m         train_params[\u001b[39m\"\u001b[39;49m\u001b[39minit_model\u001b[39;49m\u001b[39m\"\u001b[39;49m]\n\u001b[0;32m   2361\u001b[0m     )\n\u001b[0;32m   2363\u001b[0m \u001b[39m# Have property feature_importance possibly set\u001b[39;00m\n\u001b[0;32m   2364\u001b[0m loss \u001b[39m=\u001b[39m \u001b[39mself\u001b[39m\u001b[39m.\u001b[39m_object\u001b[39m.\u001b[39m_get_loss_function_name()\n",
      "File \u001b[1;32m~\\AppData\\Roaming\\Python\\Python38\\site-packages\\catboost\\core.py:1759\u001b[0m, in \u001b[0;36m_CatBoostBase._train\u001b[1;34m(self, train_pool, test_pool, params, allow_clear_pool, init_model)\u001b[0m\n\u001b[0;32m   1758\u001b[0m \u001b[39mdef\u001b[39;00m \u001b[39m_train\u001b[39m(\u001b[39mself\u001b[39m, train_pool, test_pool, params, allow_clear_pool, init_model):\n\u001b[1;32m-> 1759\u001b[0m     \u001b[39mself\u001b[39;49m\u001b[39m.\u001b[39;49m_object\u001b[39m.\u001b[39;49m_train(train_pool, test_pool, params, allow_clear_pool, init_model\u001b[39m.\u001b[39;49m_object \u001b[39mif\u001b[39;49;00m init_model \u001b[39melse\u001b[39;49;00m \u001b[39mNone\u001b[39;49;00m)\n\u001b[0;32m   1760\u001b[0m     \u001b[39mself\u001b[39m\u001b[39m.\u001b[39m_set_trained_model_attributes()\n",
      "File \u001b[1;32m_catboost.pyx:4623\u001b[0m, in \u001b[0;36m_catboost._CatBoost._train\u001b[1;34m()\u001b[0m\n",
      "File \u001b[1;32m_catboost.pyx:4672\u001b[0m, in \u001b[0;36m_catboost._CatBoost._train\u001b[1;34m()\u001b[0m\n",
      "\u001b[1;31mKeyboardInterrupt\u001b[0m: "
     ]
    }
   ],
   "source": [
    "from catboost import CatBoostClassifier, Pool\n",
    "# model = CatBoostClassifier(random_seed = 113,\n",
    "#                           task_type='GPU',                      \n",
    "#                           bootstrap_type = 'Poisson',\n",
    "#                           loss_function='MultiClass',\n",
    "#                         #   eval_metric = 'Accuracy',\n",
    "#                           iterations =  10000,                         \n",
    "#                           verbose=1000\n",
    "#                           )\n",
    "model = CatBoostClassifier(random_seed = 23,\n",
    "                          task_type='GPU',                      \n",
    "                          iterations =  10000,                         \n",
    "                          verbose=1000\n",
    "                          )\n",
    "train_pool = Pool(X_train, y_train)\n",
    "valid_pool = Pool(X_valid, y_valid)\n",
    "\n",
    "fit_model = model.fit(train_pool, \n",
    "                          eval_set=valid_pool,\n",
    "                          use_best_model=True\n",
    "                          )"
   ]
  },
  {
   "cell_type": "code",
   "execution_count": 56,
   "metadata": {},
   "outputs": [
    {
     "name": "stdout",
     "output_type": "stream",
     "text": [
      "Learning rate set to 0.044222\n",
      "0:\tlearn: 0.4068058\ttest: 0.3674905\tbest: 0.3674905 (0)\ttotal: 13.2ms\tremaining: 2m 11s\n",
      "1000:\tlearn: 0.9945038\ttest: 0.5199121\tbest: 0.5205211 (962)\ttotal: 10.9s\tremaining: 1m 37s\n",
      "2000:\tlearn: 1.0000000\ttest: 0.5258049\tbest: 0.5292009 (1900)\ttotal: 21.6s\tremaining: 1m 26s\n",
      "3000:\tlearn: 1.0000000\ttest: 0.5287519\tbest: 0.5375833 (2681)\ttotal: 32.3s\tremaining: 1m 15s\n",
      "4000:\tlearn: 1.0000000\ttest: 0.5302740\tbest: 0.5375833 (2681)\ttotal: 43.1s\tremaining: 1m 4s\n",
      "5000:\tlearn: 1.0000000\ttest: 0.5318943\tbest: 0.5375833 (2681)\ttotal: 53.8s\tremaining: 53.8s\n"
     ]
    },
    {
     "ename": "KeyboardInterrupt",
     "evalue": "",
     "output_type": "error",
     "traceback": [
      "\u001b[1;31m---------------------------------------------------------------------------\u001b[0m",
      "\u001b[1;31mKeyboardInterrupt\u001b[0m                         Traceback (most recent call last)",
      "Cell \u001b[1;32mIn[56], line 10\u001b[0m\n\u001b[0;32m      7\u001b[0m train_pool \u001b[39m=\u001b[39m Pool(X_train, y_train)\n\u001b[0;32m      8\u001b[0m valid_pool \u001b[39m=\u001b[39m Pool(X_valid, y_valid)\n\u001b[1;32m---> 10\u001b[0m fit_model \u001b[39m=\u001b[39m model\u001b[39m.\u001b[39;49mfit(train_pool, \n\u001b[0;32m     11\u001b[0m                           eval_set\u001b[39m=\u001b[39;49mvalid_pool,\n\u001b[0;32m     12\u001b[0m                           use_best_model\u001b[39m=\u001b[39;49m\u001b[39mTrue\u001b[39;49;00m\n\u001b[0;32m     13\u001b[0m                           )\n",
      "File \u001b[1;32m~\\AppData\\Roaming\\Python\\Python38\\site-packages\\catboost\\core.py:5128\u001b[0m, in \u001b[0;36mCatBoostClassifier.fit\u001b[1;34m(self, X, y, cat_features, text_features, embedding_features, sample_weight, baseline, use_best_model, eval_set, verbose, logging_level, plot, plot_file, column_description, verbose_eval, metric_period, silent, early_stopping_rounds, save_snapshot, snapshot_file, snapshot_interval, init_model, callbacks, log_cout, log_cerr)\u001b[0m\n\u001b[0;32m   5125\u001b[0m \u001b[39mif\u001b[39;00m \u001b[39m'\u001b[39m\u001b[39mloss_function\u001b[39m\u001b[39m'\u001b[39m \u001b[39min\u001b[39;00m params:\n\u001b[0;32m   5126\u001b[0m     CatBoostClassifier\u001b[39m.\u001b[39m_check_is_compatible_loss(params[\u001b[39m'\u001b[39m\u001b[39mloss_function\u001b[39m\u001b[39m'\u001b[39m])\n\u001b[1;32m-> 5128\u001b[0m \u001b[39mself\u001b[39;49m\u001b[39m.\u001b[39;49m_fit(X, y, cat_features, text_features, embedding_features, \u001b[39mNone\u001b[39;49;00m, sample_weight, \u001b[39mNone\u001b[39;49;00m, \u001b[39mNone\u001b[39;49;00m, \u001b[39mNone\u001b[39;49;00m, \u001b[39mNone\u001b[39;49;00m, baseline, use_best_model,\n\u001b[0;32m   5129\u001b[0m           eval_set, verbose, logging_level, plot, plot_file, column_description, verbose_eval, metric_period,\n\u001b[0;32m   5130\u001b[0m           silent, early_stopping_rounds, save_snapshot, snapshot_file, snapshot_interval, init_model, callbacks, log_cout, log_cerr)\n\u001b[0;32m   5131\u001b[0m \u001b[39mreturn\u001b[39;00m \u001b[39mself\u001b[39m\n",
      "File \u001b[1;32m~\\AppData\\Roaming\\Python\\Python38\\site-packages\\catboost\\core.py:2355\u001b[0m, in \u001b[0;36mCatBoost._fit\u001b[1;34m(self, X, y, cat_features, text_features, embedding_features, pairs, sample_weight, group_id, group_weight, subgroup_id, pairs_weight, baseline, use_best_model, eval_set, verbose, logging_level, plot, plot_file, column_description, verbose_eval, metric_period, silent, early_stopping_rounds, save_snapshot, snapshot_file, snapshot_interval, init_model, callbacks, log_cout, log_cerr)\u001b[0m\n\u001b[0;32m   2351\u001b[0m allow_clear_pool \u001b[39m=\u001b[39m train_params[\u001b[39m\"\u001b[39m\u001b[39mallow_clear_pool\u001b[39m\u001b[39m\"\u001b[39m]\n\u001b[0;32m   2353\u001b[0m \u001b[39mwith\u001b[39;00m log_fixup(log_cout, log_cerr), \\\n\u001b[0;32m   2354\u001b[0m     plot_wrapper(plot, plot_file, \u001b[39m'\u001b[39m\u001b[39mTraining plots\u001b[39m\u001b[39m'\u001b[39m, [_get_train_dir(\u001b[39mself\u001b[39m\u001b[39m.\u001b[39mget_params())]):\n\u001b[1;32m-> 2355\u001b[0m     \u001b[39mself\u001b[39;49m\u001b[39m.\u001b[39;49m_train(\n\u001b[0;32m   2356\u001b[0m         train_pool,\n\u001b[0;32m   2357\u001b[0m         train_params[\u001b[39m\"\u001b[39;49m\u001b[39meval_sets\u001b[39;49m\u001b[39m\"\u001b[39;49m],\n\u001b[0;32m   2358\u001b[0m         params,\n\u001b[0;32m   2359\u001b[0m         allow_clear_pool,\n\u001b[0;32m   2360\u001b[0m         train_params[\u001b[39m\"\u001b[39;49m\u001b[39minit_model\u001b[39;49m\u001b[39m\"\u001b[39;49m]\n\u001b[0;32m   2361\u001b[0m     )\n\u001b[0;32m   2363\u001b[0m \u001b[39m# Have property feature_importance possibly set\u001b[39;00m\n\u001b[0;32m   2364\u001b[0m loss \u001b[39m=\u001b[39m \u001b[39mself\u001b[39m\u001b[39m.\u001b[39m_object\u001b[39m.\u001b[39m_get_loss_function_name()\n",
      "File \u001b[1;32m~\\AppData\\Roaming\\Python\\Python38\\site-packages\\catboost\\core.py:1759\u001b[0m, in \u001b[0;36m_CatBoostBase._train\u001b[1;34m(self, train_pool, test_pool, params, allow_clear_pool, init_model)\u001b[0m\n\u001b[0;32m   1758\u001b[0m \u001b[39mdef\u001b[39;00m \u001b[39m_train\u001b[39m(\u001b[39mself\u001b[39m, train_pool, test_pool, params, allow_clear_pool, init_model):\n\u001b[1;32m-> 1759\u001b[0m     \u001b[39mself\u001b[39;49m\u001b[39m.\u001b[39;49m_object\u001b[39m.\u001b[39;49m_train(train_pool, test_pool, params, allow_clear_pool, init_model\u001b[39m.\u001b[39;49m_object \u001b[39mif\u001b[39;49;00m init_model \u001b[39melse\u001b[39;49;00m \u001b[39mNone\u001b[39;49;00m)\n\u001b[0;32m   1760\u001b[0m     \u001b[39mself\u001b[39m\u001b[39m.\u001b[39m_set_trained_model_attributes()\n",
      "File \u001b[1;32m_catboost.pyx:4623\u001b[0m, in \u001b[0;36m_catboost._CatBoost._train\u001b[1;34m()\u001b[0m\n",
      "File \u001b[1;32m_catboost.pyx:4672\u001b[0m, in \u001b[0;36m_catboost._CatBoost._train\u001b[1;34m()\u001b[0m\n",
      "\u001b[1;31mKeyboardInterrupt\u001b[0m: "
     ]
    }
   ],
   "source": [
    "model = CatBoostClassifier(random_seed = 23,\n",
    "                          task_type='GPU',                      \n",
    "                          iterations =  10000, \n",
    "                          eval_metric = 'TotalF1',                        \n",
    "                          verbose=1000\n",
    "                          )\n",
    "train_pool = Pool(X_train, y_train)\n",
    "valid_pool = Pool(X_valid, y_valid)\n",
    "\n",
    "fit_model = model.fit(train_pool, \n",
    "                          eval_set=valid_pool,\n",
    "                          use_best_model=True\n",
    "                          )"
   ]
  },
  {
   "cell_type": "code",
   "execution_count": 77,
   "metadata": {},
   "outputs": [
    {
     "name": "stdout",
     "output_type": "stream",
     "text": [
      "0\n",
      "1\n",
      "2\n"
     ]
    }
   ],
   "source": [
    "np.mean(spectral_bw, axis=1)\n",
    "np.max(spectral_bw, axis=1)\n",
    "np.min(spectral_bw, axis=1)\n",
    "np.std(spectral_bw, axis=1)\n",
    "np.median(spectral_bw, axis=1)\n",
    "np.diff(db, axis=1).shape\n",
    "\n",
    "lst = []\n",
    "lst2= []\n",
    "lst3= []\n",
    "lst4= []\n",
    "lst.append(np.mean(mfccs, axis=1))\n",
    "lst2.append(np.mean(mfccs, axis=1))\n",
    "lst3.append(np.mean(mfccs, axis=1))\n",
    "\n",
    "lst4 = [lst, lst2, lst3]\n",
    "pd.DataFrame(lst4)\n",
    "\n",
    "for i, j in enumerate(lst4):\n",
    "    print(i)"
   ]
  },
  {
   "cell_type": "code",
   "execution_count": 54,
   "metadata": {},
   "outputs": [
    {
     "data": {
      "text/plain": [
       "129.19921875"
      ]
     },
     "execution_count": 54,
     "metadata": {},
     "output_type": "execute_result"
    }
   ],
   "source": [
    "tempo, a = librosa.beat.beat_track(y=audio, sr=sr)\n",
    "tempo"
   ]
  },
  {
   "cell_type": "code",
   "execution_count": 37,
   "metadata": {},
   "outputs": [
    {
     "data": {
      "text/plain": [
       "array([-362.26068   ,  174.29703   ,   32.365677  ,  121.41803   ,\n",
       "          0.82273257,   78.00381   ,   -3.657601  ,   55.975086  ,\n",
       "         -1.3621055 ,   23.457863  ,    9.010335  ,    0.7740803 ,\n",
       "         19.32623   ], dtype=float32)"
      ]
     },
     "execution_count": 37,
     "metadata": {},
     "output_type": "execute_result"
    }
   ],
   "source": [
    "dum_mfcc.shape\n",
    "np.mean(dum_mfcc, axis=1)\n",
    "np.max(dum_mfcc, axis=1)"
   ]
  },
  {
   "cell_type": "code",
   "execution_count": 45,
   "metadata": {},
   "outputs": [
    {
     "data": {
      "text/plain": [
       "5001"
      ]
     },
     "execution_count": 45,
     "metadata": {},
     "output_type": "execute_result"
    }
   ],
   "source": [
    "from glob import glob\n",
    "\n",
    "dum = glob(r'train/*')\n",
    "len(dum)"
   ]
  },
  {
   "cell_type": "code",
   "execution_count": 13,
   "metadata": {},
   "outputs": [
    {
     "data": {
      "text/plain": [
       "(13, 113)"
      ]
     },
     "execution_count": 13,
     "metadata": {},
     "output_type": "execute_result"
    }
   ],
   "source": [
    "def trans_mfcc(path):\n",
    "    "
   ]
  },
  {
   "cell_type": "code",
   "execution_count": 11,
   "metadata": {},
   "outputs": [
    {
     "data": {
      "text/plain": [
       "(13, 103)"
      ]
     },
     "execution_count": 11,
     "metadata": {},
     "output_type": "execute_result"
    }
   ],
   "source": []
  }
 ],
 "metadata": {
  "kernelspec": {
   "display_name": "gibo",
   "language": "python",
   "name": "python3"
  },
  "language_info": {
   "codemirror_mode": {
    "name": "ipython",
    "version": 3
   },
   "file_extension": ".py",
   "mimetype": "text/x-python",
   "name": "python",
   "nbconvert_exporter": "python",
   "pygments_lexer": "ipython3",
   "version": "3.8.15"
  },
  "orig_nbformat": 4
 },
 "nbformat": 4,
 "nbformat_minor": 2
}
